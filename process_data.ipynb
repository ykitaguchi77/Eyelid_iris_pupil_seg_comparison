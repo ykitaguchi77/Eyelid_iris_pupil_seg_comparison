{
 "cells": [
  {
   "cell_type": "code",
   "execution_count": 70,
   "id": "da0be52d",
   "metadata": {},
   "outputs": [
    {
     "name": "stdout",
     "output_type": "stream",
     "text": [
      "6クラスラベルを 1992 件生成しました: Images\\labels_seg\n"
     ]
    }
   ],
   "source": [
    "# 6クラスラベルの再生成（background, conj, iris_vis, iris_occ, pupil_vis, pupil_occ）\n",
    "from pathlib import Path\n",
    "import shutil\n",
    "import cv2\n",
    "import numpy as np\n",
    "import pandas as pd\n",
    "import glob\n",
    "\n",
    "IMAGES_DIR = Path('Images/images')\n",
    "LABEL_SEG_DIR = Path('Images/labels_seg')\n",
    "LABEL_OBB_DIR = Path('Images/labels_obb')\n",
    "\n",
    "# 既存sixclsファイルのみ削除（ディレクトリは再利用）\n",
    "for p in glob.glob(str(LABEL_SEG_DIR / '*_sixcls.png')):\n",
    "    try:\n",
    "        Path(p).unlink()\n",
    "    except Exception:\n",
    "        pass\n",
    "\n",
    "# 画像リスト（image_metadata.csv を前段で作っている前提）\n",
    "df = pd.read_csv('image_metadata.csv')\n",
    "\n",
    "count = 0\n",
    "for _, row in df.iterrows():\n",
    "    fname = row['filename']\n",
    "    stem = Path(fname).stem\n",
    "\n",
    "    # 必要マスクのロード（512へは保存側でサイズ統一済み想定、なければここでresize）\n",
    "    lid = cv2.imread(str(LABEL_SEG_DIR / f\"{stem}_mask_lid.png\"), 0)\n",
    "    iris = cv2.imread(str(LABEL_OBB_DIR / f\"{stem}_mask_iris.png\"), 0)\n",
    "    pupil = cv2.imread(str(LABEL_OBB_DIR / f\"{stem}_mask_pupil.png\"), 0)\n",
    "    if lid is None or iris is None or pupil is None:\n",
    "        continue\n",
    "\n",
    "    H, W = lid.shape[:2]\n",
    "    # 2値化\n",
    "    lid_b = (lid > 0)\n",
    "    iris_b = (iris > 0)\n",
    "    pupil_b = (pupil > 0)\n",
    "\n",
    "    # 6クラスID割当（ユーザ定義に準拠）\n",
    "    # 0: background = ~lid & ~iris & ~pupil\n",
    "    # 1: conj       =  lid & ~iris & ~pupil\n",
    "    # 2: iris_vis   =  lid &  iris & ~pupil\n",
    "    # 3: iris_occ   = ~lid &  iris & ~pupil\n",
    "    # 4: pupil_vis  =  lid &  iris &  pupil\n",
    "    # 5: pupil_occ  = ~lid &  iris &  pupil\n",
    "    target = np.zeros((H, W), dtype=np.uint8)\n",
    "    target[lid_b & ~iris_b & ~pupil_b] = 1\n",
    "    target[lid_b &  iris_b & ~pupil_b] = 2\n",
    "    target[~lid_b &  iris_b & ~pupil_b] = 3\n",
    "    target[lid_b &  iris_b &  pupil_b] = 4\n",
    "    target[~lid_b &  iris_b &  pupil_b] = 5\n",
    "\n",
    "    # 保存（既存ディレクトリに上書き保存）\n",
    "    out_path = LABEL_SEG_DIR / f\"{stem}_sixcls.png\"\n",
    "    cv2.imwrite(str(out_path), target)\n",
    "    count += 1\n",
    "\n",
    "print(f\"6クラスラベルを {count} 件生成しました: {LABEL_SEG_DIR}\")\n"
   ]
  },
  {
   "cell_type": "markdown",
   "id": "481e3498",
   "metadata": {},
   "source": [
    "# データ前処理\n",
    "\n",
    "このノートブックでは、CVAT XML形式のアノテーションをパースし、トレーニング用ラベル（512×512, 6クラス）を生成します。\n",
    "\n",
    "**⚠️ 重要**: このノートブックは「すべて実行（Run All）」で上から順番に実行されることを前提に設計されています。セルを個別に実行する場合は、依存関係に注意してください。\n",
    "\n",
    "## 処理の流れ（更新）\n",
    "1. CVAT XMLファイルの読み込みとパース\n",
    "2. 患者IDの抽出（ファイル名から）\n",
    "3. 画像・ラベルの処理（512×512へのリサイズ）\n",
    "4. ラベル生成（`mask_lid`、`mask_iris`、`mask_pupil`、および6クラス`*_sixcls.png`）\n",
    "5. 既存`*_sixcls.png`の削除 → 再生成（クリーンリビルド）\n",
    "6. GroupKFold分割（患者IDベース）\n",
    "\n",
    "## 6クラス定義\n",
    "- 0: background = lid外 ∩ iris外 ∩ pupil外\n",
    "- 1: conj       = lid内 ∩ iris外 ∩ pupil外\n",
    "- 2: iris_vis   = lid内 ∩ iris内 ∩ pupil外\n",
    "- 3: iris_occ   = lid外 ∩ iris内 ∩ pupil外\n",
    "- 4: pupil_vis  = lid内 ∩ iris内 ∩ pupil内\n",
    "- 5: pupil_occ  = lid外 ∩ iris内 ∩ pupil内\n",
    "\n",
    "## 出力先\n",
    "- `Images/labels_seg/`\n",
    "  - `{stem}_mask_lid.png`\n",
    "  - `{stem}_sixcls.png`（上記6クラスIDを持つ単一PNG）\n",
    "- `Images/labels_obb/`\n",
    "  - `{stem}_mask_iris.png`\n",
    "  - `{stem}_mask_pupil.png`\n",
    "\n",
    "## メタデータ（プロジェクトルート）\n",
    "- `fold_indices.json` - 5-fold GroupKFold分割情報\n",
    "- `image_metadata.csv` - 画像メタデータ（image_id, filename, patient_id, original_size）\n",
    "- `patient_list.json` - 患者IDリスト\n"
   ]
  },
  {
   "cell_type": "markdown",
   "id": "b27be88e",
   "metadata": {},
   "source": [
    "## 必要なライブラリのインポート\n"
   ]
  },
  {
   "cell_type": "code",
   "execution_count": 71,
   "id": "ac05eef0",
   "metadata": {},
   "outputs": [
    {
     "name": "stdout",
     "output_type": "stream",
     "text": [
      "ライブラリのインポート完了\n"
     ]
    }
   ],
   "source": [
    "import xml.etree.ElementTree as ET\n",
    "import numpy as np\n",
    "import cv2\n",
    "import os\n",
    "from pathlib import Path\n",
    "import json\n",
    "import pandas as pd\n",
    "from sklearn.model_selection import GroupKFold\n",
    "from sklearn.preprocessing import LabelEncoder\n",
    "import matplotlib.pyplot as plt\n",
    "from PIL import Image, ImageDraw\n",
    "import re\n",
    "\n",
    "print(\"ライブラリのインポート完了\")\n"
   ]
  },
  {
   "cell_type": "markdown",
   "id": "f8eb616c",
   "metadata": {},
   "source": [
    "## 設定とパス\n"
   ]
  },
  {
   "cell_type": "code",
   "execution_count": 72,
   "id": "5fa53492",
   "metadata": {},
   "outputs": [
    {
     "name": "stdout",
     "output_type": "stream",
     "text": [
      "[Override] 画像サイズを 512x512 に設定しました\n"
     ]
    }
   ],
   "source": [
    "# 画像サイズを512に統一（上書き）\n",
    "IMAGE_SIZE = 512\n",
    "print(f\"[Override] 画像サイズを {IMAGE_SIZE}x{IMAGE_SIZE} に設定しました\")\n"
   ]
  },
  {
   "cell_type": "code",
   "execution_count": 73,
   "id": "d5a51d56",
   "metadata": {},
   "outputs": [
    {
     "name": "stdout",
     "output_type": "stream",
     "text": [
      "画像ディレクトリ: Images\\images\n",
      "出力ディレクトリ: Images\\labels_seg, Images\\labels_obb\n",
      "画像サイズ: 640x640\n"
     ]
    }
   ],
   "source": [
    "# パス設定\n",
    "IMAGES_DIR = Path(\"Images/images\")\n",
    "EYELID_XML_PATH = Path(\"Images/eyelid_caruncle_seg_0-2000.xml\")\n",
    "IRIS_PUPIL_XML_PATH = Path(\"Images/obb_iris_pupil_1-3000.xml\")\n",
    "\n",
    "# 出力ディレクトリ\n",
    "LABEL_SEG_DIR = Path(\"Images/labels_seg\")\n",
    "LABEL_OBB_DIR = Path(\"Images/labels_obb\")\n",
    "LABEL_SEG_DIR.mkdir(exist_ok=True)\n",
    "LABEL_OBB_DIR.mkdir(exist_ok=True)\n",
    "\n",
    "# 設定\n",
    "IMAGE_SIZE = 640\n",
    "MAX_IMAGE_ID = 1999  # image id 0-1999のみ使用\n",
    "GLOBAL_SEED = 42\n",
    "\n",
    "print(f\"画像ディレクトリ: {IMAGES_DIR}\")\n",
    "print(f\"出力ディレクトリ: {LABEL_SEG_DIR}, {LABEL_OBB_DIR}\")\n",
    "print(f\"画像サイズ: {IMAGE_SIZE}x{IMAGE_SIZE}\")\n"
   ]
  },
  {
   "cell_type": "markdown",
   "id": "a4313dc8",
   "metadata": {},
   "source": [
    "## CVAT XMLパース関数\n"
   ]
  },
  {
   "cell_type": "code",
   "execution_count": 74,
   "id": "52ab0f95",
   "metadata": {},
   "outputs": [
    {
     "name": "stdout",
     "output_type": "stream",
     "text": [
      "CVAT XMLパース関数を定義しました\n"
     ]
    }
   ],
   "source": [
    "def parse_cvat_xml(xml_path):\n",
    "    \"\"\"\n",
    "    CVAT XMLファイルをパースして、imageごとのアノテーション情報を返す\n",
    "    \n",
    "    Returns:\n",
    "        dict: {image_id: {filename, width, height, annotations}}\n",
    "    \"\"\"\n",
    "    tree = ET.parse(xml_path)\n",
    "    root = tree.getroot()\n",
    "    \n",
    "    annotations_dict = {}\n",
    "    \n",
    "    for image in root.findall('image'):\n",
    "        image_id = int(image.get('id'))\n",
    "        filename = image.get('name')\n",
    "        width = int(image.get('width'))\n",
    "        height = int(image.get('height'))\n",
    "        \n",
    "        annotations = {\n",
    "            'filename': filename,\n",
    "            'width': width,\n",
    "            'height': height,\n",
    "            'polygons': [],\n",
    "            'ellipses': []\n",
    "        }\n",
    "        \n",
    "        # polygon（眼瞼、涙丘）を取得\n",
    "        for polygon in image.findall('polygon'):\n",
    "            label = polygon.get('label')\n",
    "            points_str = polygon.get('points')\n",
    "            if points_str:\n",
    "                annotations['polygons'].append({\n",
    "                    'label': label,\n",
    "                    'points': points_str\n",
    "                })\n",
    "        \n",
    "        # ellipse（虹彩、瞳孔）を取得\n",
    "        for ellipse in image.findall('ellipse'):\n",
    "            label = ellipse.get('label')\n",
    "            cx = float(ellipse.get('cx'))\n",
    "            cy = float(ellipse.get('cy'))\n",
    "            rx = float(ellipse.get('rx'))\n",
    "            ry = float(ellipse.get('ry'))\n",
    "            \n",
    "            annotations['ellipses'].append({\n",
    "                'label': label,\n",
    "                'cx': cx,\n",
    "                'cy': cy,\n",
    "                'rx': rx,\n",
    "                'ry': ry\n",
    "            })\n",
    "        \n",
    "        annotations_dict[image_id] = annotations\n",
    "    \n",
    "    return annotations_dict\n",
    "\n",
    "print(\"CVAT XMLパース関数を定義しました\")\n"
   ]
  },
  {
   "cell_type": "markdown",
   "id": "9de9d6f5",
   "metadata": {},
   "source": [
    "## 患者ID抽出関数\n"
   ]
  },
  {
   "cell_type": "code",
   "execution_count": 75,
   "id": "19fa0b5b",
   "metadata": {},
   "outputs": [
    {
     "name": "stdout",
     "output_type": "stream",
     "text": [
      "テスト: 1-20141126-38-091804_eb568e2ac952f8be45ec0ac9ae800120b7c988b60ac499ca87306986d218f554_L.jpg → patient_id=1\n"
     ]
    }
   ],
   "source": [
    "def extract_patient_id(filename):\n",
    "    \"\"\"\n",
    "    ファイル名から患者IDを抽出\n",
    "    \n",
    "    Args:\n",
    "        filename: 例: '1-20141126-38-091804_...jpg'\n",
    "    \n",
    "    Returns:\n",
    "        int: 患者ID（例: 1）\n",
    "    \"\"\"\n",
    "    # ファイル名のbasename先頭の整数を抽出\n",
    "    basename = os.path.basename(filename)\n",
    "    match = re.match(r'^(\\d+)', basename)\n",
    "    if match:\n",
    "        return int(match.group(1))\n",
    "    else:\n",
    "        # デフォルト値を返す（アノテがない画像の可能性）\n",
    "        return -1\n",
    "\n",
    "# テスト\n",
    "test_filename = \"1-20141126-38-091804_eb568e2ac952f8be45ec0ac9ae800120b7c988b60ac499ca87306986d218f554_L.jpg\"\n",
    "patient_id = extract_patient_id(test_filename)\n",
    "print(f\"テスト: {test_filename} → patient_id={patient_id}\")\n"
   ]
  },
  {
   "cell_type": "markdown",
   "id": "37d30d7c",
   "metadata": {},
   "source": [
    "## ラスタライズ関数\n"
   ]
  },
  {
   "cell_type": "code",
   "execution_count": 76,
   "id": "36af42b2",
   "metadata": {},
   "outputs": [
    {
     "name": "stdout",
     "output_type": "stream",
     "text": [
      "ラスタライズ関数を定義しました\n"
     ]
    }
   ],
   "source": [
    "def parse_points(points_str):\n",
    "    \"\"\"\n",
    "    CVATのpoints形式の文字列をパース\n",
    "    例: \"281.31,446.31;274.60,448.40;...\"\n",
    "    \"\"\"\n",
    "    if not points_str:\n",
    "        return []\n",
    "    points = []\n",
    "    for pair in points_str.split(';'):\n",
    "        x, y = map(float, pair.split(','))\n",
    "        points.append((x, y))\n",
    "    return np.array(points, dtype=np.float32)\n",
    "\n",
    "def rasterize_polygon(points_str, original_size, target_size=640):\n",
    "    \"\"\"\n",
    "    polygonをラスタライズ\n",
    "    \n",
    "    Args:\n",
    "        points_str: \"x1,y1;x2,y2;...\"形式の文字列\n",
    "        original_size: (width, height) 元画像サイズ\n",
    "        target_size: 目標画像サイズ\n",
    "    \n",
    "    Returns:\n",
    "        np.ndarray: (target_size, target_size)のバイナリマスク\n",
    "    \"\"\"\n",
    "    points = parse_points(points_str)\n",
    "    if len(points) == 0:\n",
    "        return np.zeros((target_size, target_size), dtype=np.uint8)\n",
    "    \n",
    "    # 元画像座標を正規化\n",
    "    orig_w, orig_h = original_size\n",
    "    points_norm = points.copy()\n",
    "    points_norm[:, 0] = (points_norm[:, 0] / orig_w) * target_size\n",
    "    points_norm[:, 1] = (points_norm[:, 1] / orig_h) * target_size\n",
    "    \n",
    "    # OpenCVで描画\n",
    "    mask = np.zeros((target_size, target_size), dtype=np.uint8)\n",
    "    points_int = points_norm.astype(np.int32)\n",
    "    cv2.fillPoly(mask, [points_int], 255)\n",
    "    \n",
    "    return mask\n",
    "\n",
    "def rasterize_ellipse(cx, cy, rx, ry, original_size, target_size=640):\n",
    "    \"\"\"\n",
    "    ellipseをラスタライズ\n",
    "    \n",
    "    Args:\n",
    "        cx, cy: 中心座標\n",
    "        rx, ry: x半径, y半径\n",
    "        original_size: (width, height)\n",
    "        target_size: 目標画像サイズ\n",
    "    \n",
    "    Returns:\n",
    "        np.ndarray: (target_size, target_size)のバイナリマスク\n",
    "    \"\"\"\n",
    "    orig_w, orig_h = original_size\n",
    "    \n",
    "    # 座標を正規化\n",
    "    cx_norm = (cx / orig_w) * target_size\n",
    "    cy_norm = (cy / orig_h) * target_size\n",
    "    rx_norm = (rx / orig_w) * target_size\n",
    "    ry_norm = (ry / orig_h) * target_size\n",
    "    \n",
    "    # PILで描画（楕円はOpenCVよりPILの方が綺麗）\n",
    "    mask = Image.new('L', (target_size, target_size), 0)\n",
    "    draw = ImageDraw.Draw(mask)\n",
    "    \n",
    "    # 楕円の境界を計算\n",
    "    bbox = [\n",
    "        cx_norm - rx_norm,\n",
    "        cy_norm - ry_norm,\n",
    "        cx_norm + rx_norm,\n",
    "        cy_norm + ry_norm\n",
    "    ]\n",
    "    \n",
    "    draw.ellipse(bbox, fill=255)\n",
    "    \n",
    "    return np.array(mask, dtype=np.uint8)\n",
    "\n",
    "print(\"ラスタライズ関数を定義しました\")\n"
   ]
  },
  {
   "cell_type": "markdown",
   "id": "7a130481",
   "metadata": {},
   "source": [
    "## CVAT XML読み込み\n"
   ]
  },
  {
   "cell_type": "code",
   "execution_count": 77,
   "id": "619e44c5",
   "metadata": {},
   "outputs": [
    {
     "name": "stdout",
     "output_type": "stream",
     "text": [
      "眼瞼・涙丘XMLファイルを読み込み中...\n",
      "眼瞼・涙丘: 4459件のアノテーション\n",
      "虹彩・瞳孔XMLファイルを読み込み中...\n",
      "虹彩・瞳孔: 4467件のアノテーション\n",
      "\n",
      "image id 0-1999のみを使用します\n"
     ]
    }
   ],
   "source": [
    "# 眼瞼・涙丘のアノテーションを読み込み\n",
    "print(\"眼瞼・涙丘XMLファイルを読み込み中...\")\n",
    "eyelid_annotations = parse_cvat_xml(EYELID_XML_PATH)\n",
    "print(f\"眼瞼・涙丘: {len(eyelid_annotations)}件のアノテーション\")\n",
    "\n",
    "# 虹彩・瞳孔のアノテーションを読み込み\n",
    "print(\"虹彩・瞳孔XMLファイルを読み込み中...\")\n",
    "iris_pupil_annotations = parse_cvat_xml(IRIS_PUPIL_XML_PATH)\n",
    "print(f\"虹彩・瞳孔: {len(iris_pupil_annotations)}件のアノテーション\")\n",
    "\n",
    "# image id 0-1999にフィルタ\n",
    "filtered_image_ids = set(range(MAX_IMAGE_ID + 1))\n",
    "print(f\"\\nimage id 0-{MAX_IMAGE_ID}のみを使用します\")\n"
   ]
  },
  {
   "cell_type": "markdown",
   "id": "3a8c1416",
   "metadata": {},
   "source": [
    "## データ処理とラベル生成\n",
    "\n",
    "各画像について、以下を処理します：\n",
    "1. 眼瞼・涙丘の統合マスク生成\n",
    "2. 虹彩・瞳孔の楕円マスク生成\n",
    "3. 5クラス教師データ生成\n"
   ]
  },
  {
   "cell_type": "code",
   "execution_count": 78,
   "id": "03b9bd16",
   "metadata": {},
   "outputs": [
    {
     "name": "stdout",
     "output_type": "stream",
     "text": [
      "データ処理関数を定義しました\n"
     ]
    }
   ],
   "source": [
    "def process_single_image(image_id):\n",
    "    \"\"\"\n",
    "    単一画像を処理してラベルを生成\n",
    "    \n",
    "    Returns:\n",
    "        dict or None: 処理結果、失敗時はNone\n",
    "    \"\"\"\n",
    "    # eyelidアノテーションを取得\n",
    "    if image_id not in eyelid_annotations:\n",
    "        return None\n",
    "    \n",
    "    eyelid_ann = eyelid_annotations[image_id]\n",
    "    filename = eyelid_ann['filename']\n",
    "    original_size = (eyelid_ann['width'], eyelid_ann['height'])\n",
    "    \n",
    "    # 患者ID抽出\n",
    "    patient_id = extract_patient_id(filename)\n",
    "    \n",
    "    # マスク生成\n",
    "    mask_eyelid = np.zeros((IMAGE_SIZE, IMAGE_SIZE), dtype=np.uint8)\n",
    "    mask_caruncle = np.zeros((IMAGE_SIZE, IMAGE_SIZE), dtype=np.uint8)\n",
    "    \n",
    "    for polygon in eyelid_ann['polygons']:\n",
    "        label = polygon['label']\n",
    "        points_str = polygon['points']\n",
    "        mask = rasterize_polygon(points_str, original_size, IMAGE_SIZE)\n",
    "        \n",
    "        if label == 'Eyelid':\n",
    "            mask_eyelid = np.maximum(mask_eyelid, mask)\n",
    "        elif label == 'Caruncle':\n",
    "            mask_caruncle = np.maximum(mask_caruncle, mask)\n",
    "    \n",
    "    # 眼瞼統合\n",
    "    mask_lid = np.clip(mask_eyelid + mask_caruncle, 0, 255)\n",
    "    \n",
    "    # 虹彩・瞳孔処理\n",
    "    iris_pupil_ann = iris_pupil_annotations.get(image_id)\n",
    "    \n",
    "    mask_iris = np.zeros((IMAGE_SIZE, IMAGE_SIZE), dtype=np.uint8)\n",
    "    mask_pupil = np.zeros((IMAGE_SIZE, IMAGE_SIZE), dtype=np.uint8)\n",
    "    \n",
    "    if iris_pupil_ann:\n",
    "        for ellipse in iris_pupil_ann['ellipses']:\n",
    "            label = ellipse['label']\n",
    "            mask = rasterize_ellipse(\n",
    "                ellipse['cx'], ellipse['cy'],\n",
    "                ellipse['rx'], ellipse['ry'],\n",
    "                original_size, IMAGE_SIZE\n",
    "            )\n",
    "            \n",
    "            if label == 'Iris':\n",
    "                mask_iris = np.maximum(mask_iris, mask)\n",
    "            elif label == 'Pupil':\n",
    "                mask_pupil = np.maximum(mask_pupil, mask)\n",
    "    \n",
    "    # 一貫性保証: E_pupil ⊂ E_iris\n",
    "    mask_pupil = np.bitwise_and(mask_pupil, mask_iris)\n",
    "    \n",
    "    # 5クラス教師データ生成\n",
    "    # 注意：眼瞼マスクは「眼瞼縁に囲まれた部分（眼球の露出部分）」を表す\n",
    "    # つまり、眼瞼マスクの中 = 見えている部分、眼瞼マスクの外 = 隠れている部分\n",
    "    iris_vis = np.bitwise_and(mask_iris, mask_lid)         # 虹彩 ∩ 眼瞼 = 見える\n",
    "    iris_occ = np.bitwise_and(mask_iris, 255 - mask_lid)   # 虹彩 ∩ (NOT 眼瞼) = 隠れている\n",
    "    pupil_vis = np.bitwise_and(mask_pupil, mask_lid)       # 瞳孔 ∩ 眼瞼 = 見える\n",
    "    pupil_occ = np.bitwise_and(mask_pupil, 255 - mask_lid) # 瞳孔 ∩ (NOT 眼瞼) = 隠れている\n",
    "    \n",
    "    return {\n",
    "        'image_id': image_id,\n",
    "        'filename': filename,\n",
    "        'patient_id': patient_id,\n",
    "        'mask_lid': mask_lid,\n",
    "        \n",
    "        'mask_iris': mask_iris,\n",
    "        'mask_pupil': mask_pupil,\n",
    "        'iris_vis': iris_vis,\n",
    "        'iris_occ': iris_occ,\n",
    "        'pupil_vis': pupil_vis,\n",
    "        'pupil_occ': pupil_occ,\n",
    "        'original_size': original_size\n",
    "    }\n",
    "\n",
    "print(\"データ処理関数を定義しました\")\n"
   ]
  },
  {
   "cell_type": "markdown",
   "id": "2b77777d",
   "metadata": {},
   "source": [
    "## 全データ処理とGroupKFold分割\n"
   ]
  },
  {
   "cell_type": "code",
   "execution_count": 79,
   "id": "5b352950",
   "metadata": {},
   "outputs": [
    {
     "name": "stdout",
     "output_type": "stream",
     "text": [
      "処理中: 500/2000\n",
      "処理中: 1000/2000\n",
      "処理中: 1500/2000\n",
      "処理中: 2000/2000\n",
      "\n",
      "処理完了: 1992件のデータ\n",
      "\n",
      "データフレーム作成完了\n",
      "患者数: 122\n",
      "\n",
      "最初の5件:\n",
      "   image_id                                           filename  patient_id\n",
      "0         0  1-20141126-38-091804_eb568e2ac952f8be45ec0ac9a...           1\n",
      "1         1  1-20141126-38-091804_eb568e2ac952f8be45ec0ac9a...           1\n",
      "2         2  1-20150121-38-142903_6e60b2355e174936406b708cf...           1\n",
      "3         3  1-20150121-38-142903_6e60b2355e174936406b708cf...           1\n",
      "4         4  1-20150121-38-142903_f27c8cf98eef934c557ffb70f...           1\n",
      "\n",
      "患者ごとの画像数（上位10件）:\n",
      "patient_id\n",
      "208    102\n",
      "164    100\n",
      "136     74\n",
      "156     71\n",
      "195     70\n",
      "151     64\n",
      "145     58\n",
      "160     50\n",
      "18      46\n",
      "162     43\n",
      "dtype: int64\n"
     ]
    }
   ],
   "source": [
    "# 全データを処理\n",
    "results = []\n",
    "for image_id in range(MAX_IMAGE_ID + 1):\n",
    "    if image_id not in filtered_image_ids:\n",
    "        continue\n",
    "    \n",
    "    result = process_single_image(image_id)\n",
    "    if result is not None:\n",
    "        results.append(result)\n",
    "    \n",
    "    if (image_id + 1) % 500 == 0:\n",
    "        print(f\"処理中: {image_id + 1}/{MAX_IMAGE_ID + 1}\")\n",
    "\n",
    "print(f\"\\n処理完了: {len(results)}件のデータ\")\n",
    "\n",
    "# DataFrame作成\n",
    "df = pd.DataFrame(results)\n",
    "print(f\"\\nデータフレーム作成完了\")\n",
    "print(f\"患者数: {df['patient_id'].nunique()}\")\n",
    "print(f\"\\n最初の5件:\")\n",
    "print(df[['image_id', 'filename', 'patient_id']].head())\n",
    "\n",
    "# 各患者の画像数を確認\n",
    "patient_counts = df.groupby('patient_id').size()\n",
    "print(f\"\\n患者ごとの画像数（上位10件）:\")\n",
    "print(patient_counts.sort_values(ascending=False).head(10))\n"
   ]
  },
  {
   "cell_type": "markdown",
   "id": "761a90b7",
   "metadata": {},
   "source": [
    "## GroupKFold分割（患者IDベース）\n"
   ]
  },
  {
   "cell_type": "code",
   "execution_count": 80,
   "id": "20b08f4e",
   "metadata": {},
   "outputs": [
    {
     "name": "stdout",
     "output_type": "stream",
     "text": [
      "Fold 0:\n",
      "  Train: 1593件（97患者）\n",
      "  Val: 399件（25患者）\n",
      "  患者重複: 0件\n",
      "\n",
      "Fold 1:\n",
      "  Train: 1594件（98患者）\n",
      "  Val: 398件（24患者）\n",
      "  患者重複: 0件\n",
      "\n",
      "Fold 2:\n",
      "  Train: 1594件（98患者）\n",
      "  Val: 398件（24患者）\n",
      "  患者重複: 0件\n",
      "\n",
      "Fold 3:\n",
      "  Train: 1593件（97患者）\n",
      "  Val: 399件（25患者）\n",
      "  患者重複: 0件\n",
      "\n",
      "Fold 4:\n",
      "  Train: 1594件（98患者）\n",
      "  Val: 398件（24患者）\n",
      "  患者重複: 0件\n",
      "\n",
      "fold_indices.json に保存しました\n"
     ]
    }
   ],
   "source": [
    "# GroupKFoldで分割\n",
    "gkf = GroupKFold(n_splits=5)\n",
    "groups = df['patient_id'].values\n",
    "X = df.index.values\n",
    "y = df['image_id'].values  # 実際のラベルは使わないが形式として\n",
    "\n",
    "fold_indices = {}\n",
    "for fold_idx, (train_idx, val_idx) in enumerate(gkf.split(X, y, groups)):\n",
    "    fold_indices[fold_idx] = {\n",
    "        'train': train_idx.tolist(),\n",
    "        'val': val_idx.tolist()\n",
    "    }\n",
    "    \n",
    "    # 患者IDが重複していないか確認\n",
    "    train_patients = set(df.iloc[train_idx]['patient_id'])\n",
    "    val_patients = set(df.iloc[val_idx]['patient_id'])\n",
    "    overlap = train_patients & val_patients\n",
    "    \n",
    "    print(f\"Fold {fold_idx}:\")\n",
    "    print(f\"  Train: {len(train_idx)}件（{len(train_patients)}患者）\")\n",
    "    print(f\"  Val: {len(val_idx)}件（{len(val_patients)}患者）\")\n",
    "    print(f\"  患者重複: {len(overlap)}件\")\n",
    "    print()\n",
    "\n",
    "# fold_indicesを保存\n",
    "with open('fold_indices.json', 'w') as f:\n",
    "    json.dump(fold_indices, f, indent=2)\n",
    "\n",
    "print(\"fold_indices.json に保存しました\")\n"
   ]
  },
  {
   "cell_type": "markdown",
   "id": "fb28c8f8",
   "metadata": {},
   "source": [
    "## 既存ラベルの削除（再生成のため）\n"
   ]
  },
  {
   "cell_type": "code",
   "execution_count": 81,
   "id": "b74bfb38",
   "metadata": {},
   "outputs": [
    {
     "name": "stdout",
     "output_type": "stream",
     "text": [
      "削除: Images\\labels_seg\n",
      "削除: Images\\labels_obb\n",
      "既存のラベルディレクトリを削除しました\n"
     ]
    }
   ],
   "source": [
    "# 既存のラベルファイルを削除（再生成のため）\n",
    "import shutil\n",
    "\n",
    "if LABEL_SEG_DIR.exists():\n",
    "    shutil.rmtree(LABEL_SEG_DIR)\n",
    "    print(f\"削除: {LABEL_SEG_DIR}\")\n",
    "LABEL_SEG_DIR.mkdir(exist_ok=True)\n",
    "\n",
    "if LABEL_OBB_DIR.exists():\n",
    "    shutil.rmtree(LABEL_OBB_DIR)\n",
    "    print(f\"削除: {LABEL_OBB_DIR}\")\n",
    "LABEL_OBB_DIR.mkdir(exist_ok=True)\n",
    "\n",
    "print(\"既存のラベルディレクトリを削除しました\")\n"
   ]
  },
  {
   "cell_type": "markdown",
   "id": "1f313404",
   "metadata": {},
   "source": [
    "## ラベル保存\n"
   ]
  },
  {
   "cell_type": "code",
   "execution_count": 82,
   "id": "c974ebb7",
   "metadata": {},
   "outputs": [
    {
     "name": "stdout",
     "output_type": "stream",
     "text": [
      "ラベル画像を保存中...\n",
      "保存中: 500/1992\n",
      "保存中: 1000/1992\n",
      "保存中: 1500/1992\n",
      "ラベル画像の保存完了\n"
     ]
    }
   ],
   "source": [
    "# ラベルを保存\n",
    "def save_label(result, label_name, output_dir):\n",
    "    \"\"\"ラベル画像を保存\"\"\"\n",
    "    mask = result[label_name]\n",
    "    filename_base = os.path.splitext(result['filename'])[0]\n",
    "    output_path = output_dir / f\"{filename_base}_{label_name}.png\"\n",
    "    cv2.imwrite(str(output_path), mask)\n",
    "    return output_path\n",
    "\n",
    "# 各ラベルを保存\n",
    "print(\"ラベル画像を保存中...\")\n",
    "for idx, result in enumerate(results):\n",
    "    if (idx + 1) % 500 == 0:\n",
    "        print(f\"保存中: {idx + 1}/{len(results)}\")\n",
    "    \n",
    "    # 眼瞼系ラベル\n",
    "    save_label(result, 'mask_lid', LABEL_SEG_DIR)\n",
    "    \n",
    "    # 虹彩・瞳孔ラベル\n",
    "    save_label(result, 'mask_iris', LABEL_OBB_DIR)\n",
    "    save_label(result, 'mask_pupil', LABEL_OBB_DIR)\n",
    "    \n",
    "    # 5クラス教師データ\n",
    "    save_label(result, 'iris_vis', LABEL_SEG_DIR)\n",
    "    save_label(result, 'iris_occ', LABEL_SEG_DIR)\n",
    "    save_label(result, 'pupil_vis', LABEL_SEG_DIR)\n",
    "    save_label(result, 'pupil_occ', LABEL_SEG_DIR)\n",
    "\n",
    "print(\"ラベル画像の保存完了\")\n"
   ]
  },
  {
   "cell_type": "markdown",
   "id": "b3cf33a1",
   "metadata": {},
   "source": [
    "## メタデータ保存\n"
   ]
  },
  {
   "cell_type": "code",
   "execution_count": 83,
   "id": "ff0afc23",
   "metadata": {},
   "outputs": [
    {
     "name": "stdout",
     "output_type": "stream",
     "text": [
      "image_metadata.csv に保存しました\n",
      "patient_list.json に保存しました\n",
      "\n",
      "データ前処理が完了しました！\n",
      "\n",
      "処理件数: 1992\n",
      "患者数: 122\n",
      "fold_indices.json: 5-fold GroupKFold分割情報\n",
      "image_metadata.csv: 画像メタデータ\n",
      "patient_list.json: 患者IDリスト\n"
     ]
    }
   ],
   "source": [
    "# データフレームを保存（画像・患者ID・パス情報のみ）\n",
    "df_save = df[['image_id', 'filename', 'patient_id', 'original_size']].copy()\n",
    "df_save.to_csv('image_metadata.csv', index=False)\n",
    "print(\"image_metadata.csv に保存しました\")\n",
    "\n",
    "# 患者IDリストを保存\n",
    "patient_list = df[['image_id', 'patient_id']].to_dict('records')\n",
    "with open('patient_list.json', 'w') as f:\n",
    "    json.dump(patient_list, f, indent=2)\n",
    "print(\"patient_list.json に保存しました\")\n",
    "\n",
    "print(\"\\nデータ前処理が完了しました！\")\n",
    "print(f\"\\n処理件数: {len(results)}\")\n",
    "print(f\"患者数: {df['patient_id'].nunique()}\")\n",
    "print(f\"fold_indices.json: 5-fold GroupKFold分割情報\")\n",
    "print(f\"image_metadata.csv: 画像メタデータ\")\n",
    "print(f\"patient_list.json: 患者IDリスト\")\n"
   ]
  }
 ],
 "metadata": {
  "kernelspec": {
   "display_name": "venv",
   "language": "python",
   "name": "python3"
  },
  "language_info": {
   "codemirror_mode": {
    "name": "ipython",
    "version": 3
   },
   "file_extension": ".py",
   "mimetype": "text/x-python",
   "name": "python",
   "nbconvert_exporter": "python",
   "pygments_lexer": "ipython3",
   "version": "3.13.5"
  }
 },
 "nbformat": 4,
 "nbformat_minor": 5
}
